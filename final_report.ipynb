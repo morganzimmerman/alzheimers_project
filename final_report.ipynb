{
 "cells": [
  {
   "cell_type": "markdown",
   "id": "4ede5a20",
   "metadata": {},
   "source": [
    "# **Introduction**\n",
    "* Establish the aim of the project\n",
    "* Offer a clear roadmap of the report (i.e what is covered in the report)"
   ]
  },
  {
   "cell_type": "markdown",
   "id": "c2061ce1",
   "metadata": {},
   "source": [
    "The aim of the following report is to analyze various lifestyle factors and their role in either the prevention or mitigation of dementia onset in an individual.\n",
    "\n",
    "First, a clear problem statement will be provided, as well as background information as to why this is a necessary analysis. Then, the data and its sources will be presented, followed by an articulation of steps taken to wrangle the data. A discussion on the methods and tools used throughout the project and detailed results will follow, supplemented by figures and visualizations. Finally, there will be a review of what \"success\" has looked like in the final stages of the report, as well as what next analysis steps might look like if allotted more time. "
   ]
  },
  {
   "cell_type": "markdown",
   "id": "d694be00",
   "metadata": {},
   "source": [
    "# **Problem Statement and Background**\n",
    "* Offer a clear and complete statement of the problem and/or aim of analysis\n",
    "* Include a brief summary of any related work (i.e. a light literature review)"
   ]
  },
  {
   "cell_type": "markdown",
   "id": "c1388d35",
   "metadata": {},
   "source": [
    "Currently, there are no disease-modifying (or curing) agents for dementia. For context as to why this is an important question to look at, is that there’s evidence that prevalence of dementia in high-income countries is declining but we aren’t seeing that downward trend in many places around the world. There’s also evidence that partaking in certain daily lifestyle activities that continue to optimize cognitive function as you age is known to help prevent the onset of dementia. It is also important to tailor prevention programs to local context and risk factors. With an expansion on this kind of research, we can design effective interventions and ultimately it will lead to more appropriate public health policies regarding healthy aging. "
   ]
  },
  {
   "cell_type": "markdown",
   "id": "fb1076f5",
   "metadata": {},
   "source": [
    "# **Data**\n",
    "* Outline where data came from\n",
    "* Clearly specify the unit of observation, the outcome of interest and how it is measured, predictor variables of interest (and why they were selected), potential issues in the data (e.g. missingness, coverage, etc.)\n",
    "* Articulate steps taken to wrangle the data"
   ]
  },
  {
   "cell_type": "markdown",
   "id": "b8316e27",
   "metadata": {},
   "source": [
    "The National Institutes of Health data I found is on 686 individuals from Indonesia. Indonesia is a middle-income country with large numbers of elders and limited healthcare resources. (DOWN) The data seeks to identify the modifiable risk factors for dementia, focusing on demographic, health, and lifestyle risk factors.\n",
    "\n",
    "Each row in the dataset refers to a patient, as the unit of observation in this data is at the patient-level. The data covers 686 individuals from one of two categories: dementia, no dementia. The individuals all reside in Jatinangor, Indonesia. This dataset comes from a research study sponsored by the National Institute of Health (NIH). Specifically, this dataset comes from \"Dementia Prevalence, Comorbidities, and Lifestyle Among Jatinangor Elders\", a published research study in the Front Neurol Journal. It was published online on July 23, 2021 (doi: 10.3389/fneur.2021.643480).\n",
    "\n",
    "Source: https://www.ncbi.nlm.nih.gov/pmc/articles/PMC8345013/"
   ]
  },
  {
   "cell_type": "markdown",
   "id": "985c9bd1",
   "metadata": {},
   "source": [
    "### *Data Wrangling*\n",
    "\n",
    "Before any analysis can occur, the first step in this process was to reformat the data into a clean pandas dataframe. When initially reading in the Excel file data, variables names where altered because some columns were titled with subheadings (rather than one name). Secondly, another obstacle of the data cleaning process was to deal with categorical variables."
   ]
  },
  {
   "cell_type": "markdown",
   "id": "321948d0",
   "metadata": {},
   "source": [
    "# **Analysis**\n",
    "* Describe the methods/tools explored in the project\n",
    "* Justify the tools/methods that used\n",
    "* Adequately describe what the tools/methods are doing\n",
    "* Note: Assume the reader is smart but doesn’t know programming/machine mearning well (be crystal clear about what you’re doing and why)"
   ]
  },
  {
   "cell_type": "markdown",
   "id": "416f1e52",
   "metadata": {},
   "source": [
    "# **Results**\n",
    "* Give a detailed summary of results\n",
    "* Present results clearly and concisely\n",
    "* Use visualizations (and tables) whenever possible/appropriate\n",
    "* Highlight some clear takeaways (“things learned”) and theoretical implications (“potential hypotheses”) from analysis"
   ]
  },
  {
   "cell_type": "markdown",
   "id": "940ae0a8",
   "metadata": {},
   "source": [
    "### *Takeaways*\n",
    "\n",
    "Lastly, I want to touch on a few things I’ve learned so far throughout this project. The first is just understanding the modeling process, and more importantly the interpretation of various results, when I’m dealing with both categorical predictors and a categorical outcome variable. My predictor model thus far produces low predictive accuracy scores and so I’m trying to distinguish between ‘have I done something wrong in terms of proper representation’ or ‘should this be interpreted as maybe dementia onset is more random than I’ve tried to predict it as’. Is dementia as an outcome just something that develops quite drastically in a wide range of individuals. So again, that “bad” predictive accuracy may be quite informative, I just am learning how to interpret that appropriately as I continue on with the machine learning stage of the project."
   ]
  },
  {
   "cell_type": "markdown",
   "id": "90d9ab6e",
   "metadata": {},
   "source": [
    "### *Theoretical Implications*"
   ]
  },
  {
   "cell_type": "markdown",
   "id": "c0936143",
   "metadata": {},
   "source": [
    "# **Discussion**\n",
    "* Speak on the “success” of project (as defined in the proposal)\n",
    "* “Did you achieve what you set out to do? If not why?”\n",
    "* Articulate how you would expand the analysis if given more time"
   ]
  },
  {
   "cell_type": "code",
   "execution_count": null,
   "id": "deb813b0",
   "metadata": {},
   "outputs": [],
   "source": []
  }
 ],
 "metadata": {
  "hide_input": false,
  "kernelspec": {
   "display_name": "Python 3 (ipykernel)",
   "language": "python",
   "name": "python3"
  },
  "language_info": {
   "codemirror_mode": {
    "name": "ipython",
    "version": 3
   },
   "file_extension": ".py",
   "mimetype": "text/x-python",
   "name": "python",
   "nbconvert_exporter": "python",
   "pygments_lexer": "ipython3",
   "version": "3.9.5"
  },
  "varInspector": {
   "cols": {
    "lenName": 16,
    "lenType": 16,
    "lenVar": 40
   },
   "kernels_config": {
    "python": {
     "delete_cmd_postfix": "",
     "delete_cmd_prefix": "del ",
     "library": "var_list.py",
     "varRefreshCmd": "print(var_dic_list())"
    },
    "r": {
     "delete_cmd_postfix": ") ",
     "delete_cmd_prefix": "rm(",
     "library": "var_list.r",
     "varRefreshCmd": "cat(var_dic_list()) "
    }
   },
   "types_to_exclude": [
    "module",
    "function",
    "builtin_function_or_method",
    "instance",
    "_Feature"
   ],
   "window_display": false
  }
 },
 "nbformat": 4,
 "nbformat_minor": 5
}
