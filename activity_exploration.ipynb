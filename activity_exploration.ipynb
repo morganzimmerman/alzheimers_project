{
 "cells": [
  {
   "cell_type": "markdown",
   "id": "07fb7a77",
   "metadata": {},
   "source": [
    "## Activity Exploration\n",
    "This notebook designs a clean dataset for activity variables and analyzes their effects on dementia."
   ]
  },
  {
   "cell_type": "code",
   "execution_count": 1,
   "id": "86a011d6",
   "metadata": {},
   "outputs": [],
   "source": [
    "# Data Management/Investigation\n",
    "import pandas as pd\n",
    "import numpy as np\n",
    "import missingno as miss\n",
    "from plotnine import *\n",
    "import matplotlib.pyplot as plt\n",
    "import pylab as pl\n",
    "import warnings\n",
    "warnings.filterwarnings(\"ignore\")\n",
    "\n",
    "# For pre-processing data \n",
    "from sklearn import preprocessing as pp \n",
    "from sklearn.compose import ColumnTransformer \n",
    "\n",
    "# For splits and CV\n",
    "from sklearn.model_selection import train_test_split\n",
    "from sklearn.model_selection import KFold # Cross validation \n",
    "from sklearn.model_selection import cross_validate # Cross validation \n",
    "from sklearn.model_selection import GridSearchCV # Cross validation + param. tuning.\n",
    "\n",
    "# Machine learning methods \n",
    "from sklearn.linear_model import LinearRegression as LM\n",
    "from sklearn.neighbors import KNeighborsRegressor as KNN\n",
    "from sklearn.tree import DecisionTreeRegressor as DTree\n",
    "from sklearn import tree # For plotting the decision tree rules\n",
    "from sklearn.ensemble import BaggingRegressor as Bag\n",
    "from sklearn.ensemble import RandomForestRegressor as RF\n",
    "\n",
    "# For evaluating our model's performance\n",
    "import sklearn.metrics as m\n",
    "\n",
    "# Pipeline to combine modeling elements\n",
    "from sklearn.pipeline import Pipeline"
   ]
  },
  {
   "cell_type": "code",
   "execution_count": 2,
   "id": "6ce47121",
   "metadata": {},
   "outputs": [
    {
     "data": {
      "text/html": [
       "<div>\n",
       "<style scoped>\n",
       "    .dataframe tbody tr th:only-of-type {\n",
       "        vertical-align: middle;\n",
       "    }\n",
       "\n",
       "    .dataframe tbody tr th {\n",
       "        vertical-align: top;\n",
       "    }\n",
       "\n",
       "    .dataframe thead th {\n",
       "        text-align: right;\n",
       "    }\n",
       "</style>\n",
       "<table border=\"1\" class=\"dataframe\">\n",
       "  <thead>\n",
       "    <tr style=\"text-align: right;\">\n",
       "      <th></th>\n",
       "      <th>Participant_ID</th>\n",
       "      <th>Category</th>\n",
       "      <th>Age_yrs</th>\n",
       "      <th>Age_category</th>\n",
       "      <th>Education_yrs</th>\n",
       "      <th>Education_category</th>\n",
       "      <th>Sex</th>\n",
       "      <th>Marital_status</th>\n",
       "      <th>Income</th>\n",
       "      <th>Occupation_class</th>\n",
       "      <th>...</th>\n",
       "      <th>Vegetable</th>\n",
       "      <th>Vegetable_category</th>\n",
       "      <th>Fruit</th>\n",
       "      <th>Fruit_category</th>\n",
       "      <th>Salted_fish</th>\n",
       "      <th>Salted_fish_category</th>\n",
       "      <th>Instant_noodle</th>\n",
       "      <th>Instant_noodle_category</th>\n",
       "      <th>Tempe</th>\n",
       "      <th>Tempe_category</th>\n",
       "    </tr>\n",
       "  </thead>\n",
       "  <tbody>\n",
       "    <tr>\n",
       "      <th>0</th>\n",
       "      <td>80001</td>\n",
       "      <td>Dementia</td>\n",
       "      <td>70.0</td>\n",
       "      <td>60-74</td>\n",
       "      <td>3.0</td>\n",
       "      <td>0-6 years</td>\n",
       "      <td>Female</td>\n",
       "      <td>Married</td>\n",
       "      <td>No Income</td>\n",
       "      <td>housewife</td>\n",
       "      <td>...</td>\n",
       "      <td>2 times/day</td>\n",
       "      <td>Frequent</td>\n",
       "      <td>Sometimes</td>\n",
       "      <td>Non Frequent</td>\n",
       "      <td>Sometimes</td>\n",
       "      <td>Non-Frequent</td>\n",
       "      <td>Sometimes</td>\n",
       "      <td>Non-Frequent</td>\n",
       "      <td>Few times/week</td>\n",
       "      <td>Non-Frequent</td>\n",
       "    </tr>\n",
       "    <tr>\n",
       "      <th>1</th>\n",
       "      <td>80002</td>\n",
       "      <td>Normal</td>\n",
       "      <td>63.0</td>\n",
       "      <td>60-74</td>\n",
       "      <td>0.0</td>\n",
       "      <td>0-6 years</td>\n",
       "      <td>Female</td>\n",
       "      <td>Single</td>\n",
       "      <td>&lt; monthly minimum wage</td>\n",
       "      <td>profesional</td>\n",
       "      <td>...</td>\n",
       "      <td>3-4 times/week</td>\n",
       "      <td>Non Frequent</td>\n",
       "      <td>Sometimes</td>\n",
       "      <td>Non Frequent</td>\n",
       "      <td>Sometimes</td>\n",
       "      <td>Non-Frequent</td>\n",
       "      <td>Sometimes</td>\n",
       "      <td>Non-Frequent</td>\n",
       "      <td>Few times/week</td>\n",
       "      <td>Non-Frequent</td>\n",
       "    </tr>\n",
       "    <tr>\n",
       "      <th>2</th>\n",
       "      <td>80003</td>\n",
       "      <td>Normal</td>\n",
       "      <td>64.0</td>\n",
       "      <td>60-74</td>\n",
       "      <td>6.0</td>\n",
       "      <td>0-6 years</td>\n",
       "      <td>Female</td>\n",
       "      <td>Married</td>\n",
       "      <td>No Income</td>\n",
       "      <td>housewife</td>\n",
       "      <td>...</td>\n",
       "      <td>3-4 times/week</td>\n",
       "      <td>Non Frequent</td>\n",
       "      <td>Sometimes</td>\n",
       "      <td>Non Frequent</td>\n",
       "      <td>Sometimes</td>\n",
       "      <td>Non-Frequent</td>\n",
       "      <td>NaN</td>\n",
       "      <td>NaN</td>\n",
       "      <td>NaN</td>\n",
       "      <td>NaN</td>\n",
       "    </tr>\n",
       "    <tr>\n",
       "      <th>3</th>\n",
       "      <td>80004</td>\n",
       "      <td>Normal</td>\n",
       "      <td>62.0</td>\n",
       "      <td>60-74</td>\n",
       "      <td>6.0</td>\n",
       "      <td>0-6 years</td>\n",
       "      <td>Female</td>\n",
       "      <td>Married</td>\n",
       "      <td>≥ monthly minimum wage</td>\n",
       "      <td>housewife</td>\n",
       "      <td>...</td>\n",
       "      <td>2 times/day</td>\n",
       "      <td>Frequent</td>\n",
       "      <td>Sometimes</td>\n",
       "      <td>Non Frequent</td>\n",
       "      <td>Sometimes</td>\n",
       "      <td>Non-Frequent</td>\n",
       "      <td>Few times/week</td>\n",
       "      <td>Frequent</td>\n",
       "      <td>Few times/week</td>\n",
       "      <td>Non-Frequent</td>\n",
       "    </tr>\n",
       "    <tr>\n",
       "      <th>4</th>\n",
       "      <td>80005</td>\n",
       "      <td>Dementia</td>\n",
       "      <td>78.0</td>\n",
       "      <td>&gt;75</td>\n",
       "      <td>3.0</td>\n",
       "      <td>0-6 years</td>\n",
       "      <td>Female</td>\n",
       "      <td>Married</td>\n",
       "      <td>No Income</td>\n",
       "      <td>housewife</td>\n",
       "      <td>...</td>\n",
       "      <td>2 times/day</td>\n",
       "      <td>Frequent</td>\n",
       "      <td>Sometimes</td>\n",
       "      <td>Non Frequent</td>\n",
       "      <td>Sometimes</td>\n",
       "      <td>Non-Frequent</td>\n",
       "      <td>Sometimes</td>\n",
       "      <td>Non-Frequent</td>\n",
       "      <td>Sometimes</td>\n",
       "      <td>Non-Frequent</td>\n",
       "    </tr>\n",
       "  </tbody>\n",
       "</table>\n",
       "<p>5 rows × 78 columns</p>\n",
       "</div>"
      ],
      "text/plain": [
       "   Participant_ID  Category  Age_yrs Age_category  Education_yrs  \\\n",
       "0           80001  Dementia     70.0        60-74            3.0   \n",
       "1           80002    Normal     63.0        60-74            0.0   \n",
       "2           80003    Normal     64.0        60-74            6.0   \n",
       "3           80004    Normal     62.0        60-74            6.0   \n",
       "4           80005  Dementia     78.0          >75            3.0   \n",
       "\n",
       "  Education_category     Sex Marital_status                  Income  \\\n",
       "0          0-6 years  Female        Married               No Income   \n",
       "1          0-6 years  Female         Single  < monthly minimum wage   \n",
       "2          0-6 years  Female        Married               No Income   \n",
       "3          0-6 years  Female        Married  ≥ monthly minimum wage   \n",
       "4          0-6 years  Female        Married               No Income   \n",
       "\n",
       "  Occupation_class  ...       Vegetable  Vegetable_category      Fruit  \\\n",
       "0        housewife  ...     2 times/day            Frequent  Sometimes   \n",
       "1      profesional  ...  3-4 times/week        Non Frequent  Sometimes   \n",
       "2        housewife  ...  3-4 times/week        Non Frequent  Sometimes   \n",
       "3        housewife  ...     2 times/day            Frequent  Sometimes   \n",
       "4        housewife  ...     2 times/day            Frequent  Sometimes   \n",
       "\n",
       "   Fruit_category  Salted_fish  Salted_fish_category  Instant_noodle  \\\n",
       "0    Non Frequent    Sometimes          Non-Frequent       Sometimes   \n",
       "1    Non Frequent    Sometimes          Non-Frequent       Sometimes   \n",
       "2    Non Frequent    Sometimes          Non-Frequent             NaN   \n",
       "3    Non Frequent    Sometimes          Non-Frequent  Few times/week   \n",
       "4    Non Frequent    Sometimes          Non-Frequent       Sometimes   \n",
       "\n",
       "   Instant_noodle_category           Tempe Tempe_category  \n",
       "0             Non-Frequent  Few times/week   Non-Frequent  \n",
       "1             Non-Frequent  Few times/week   Non-Frequent  \n",
       "2                      NaN             NaN            NaN  \n",
       "3                 Frequent  Few times/week   Non-Frequent  \n",
       "4             Non-Frequent       Sometimes   Non-Frequent  \n",
       "\n",
       "[5 rows x 78 columns]"
      ]
     },
     "execution_count": 2,
     "metadata": {},
     "output_type": "execute_result"
    }
   ],
   "source": [
    "dta = pd.read_csv('data/clean_data.csv')\n",
    "dta_dummy = pd.read_csv('data/dummy_data.csv')\n",
    "dta.head(5)"
   ]
  },
  {
   "cell_type": "markdown",
   "id": "8e9cd3a8",
   "metadata": {},
   "source": [
    "## Create Dummy Variables for Intellectual Activity Categories"
   ]
  },
  {
   "cell_type": "code",
   "execution_count": 3,
   "id": "59150769",
   "metadata": {},
   "outputs": [],
   "source": [
    "def Reads(row):\n",
    "    if row['Intellectual_1'] == 'Yes' :\n",
    "      return 1\n",
    "    return 0"
   ]
  },
  {
   "cell_type": "code",
   "execution_count": 4,
   "id": "60e5af1d",
   "metadata": {},
   "outputs": [],
   "source": [
    "dta['Reads'] = dta.apply (lambda row: Reads(row), axis=1)"
   ]
  },
  {
   "cell_type": "code",
   "execution_count": 5,
   "id": "4cff02ad",
   "metadata": {},
   "outputs": [],
   "source": [
    "def Surfs_Internet(row):\n",
    "    if row['Intellectual_2'] == 'Yes' :\n",
    "      return 1\n",
    "    return 0"
   ]
  },
  {
   "cell_type": "code",
   "execution_count": 6,
   "id": "fcf052f5",
   "metadata": {},
   "outputs": [],
   "source": [
    "dta['Surfs_Internet'] = dta.apply (lambda row: Surfs_Internet(row), axis=1)"
   ]
  },
  {
   "cell_type": "code",
   "execution_count": 7,
   "id": "1247e596",
   "metadata": {},
   "outputs": [],
   "source": [
    "def Plays_Games(row):\n",
    "    if row['Intellectual_3'] == 'Yes' :\n",
    "      return 1\n",
    "    return 0"
   ]
  },
  {
   "cell_type": "code",
   "execution_count": 8,
   "id": "18cb512b",
   "metadata": {},
   "outputs": [],
   "source": [
    "dta['Plays_Games'] = dta.apply (lambda row: Plays_Games(row), axis=1)"
   ]
  },
  {
   "cell_type": "code",
   "execution_count": 9,
   "id": "a72b8824",
   "metadata": {},
   "outputs": [],
   "source": [
    "def Invests(row):\n",
    "    if row['Intellectual_4'] == 'Yes' :\n",
    "      return 1\n",
    "    return 0"
   ]
  },
  {
   "cell_type": "code",
   "execution_count": 10,
   "id": "dbed4785",
   "metadata": {},
   "outputs": [],
   "source": [
    "dta['Invests'] = dta.apply (lambda row: Invests(row), axis=1)"
   ]
  },
  {
   "cell_type": "code",
   "execution_count": 11,
   "id": "8804bb11",
   "metadata": {},
   "outputs": [],
   "source": [
    "def Discusses(row):\n",
    "    if row['Intellectual_5'] == 'Yes' :\n",
    "      return 1\n",
    "    return 0"
   ]
  },
  {
   "cell_type": "code",
   "execution_count": 12,
   "id": "fa43f3ff",
   "metadata": {},
   "outputs": [],
   "source": [
    "dta['Discusses'] = dta.apply (lambda row: Discusses(row), axis=1)"
   ]
  },
  {
   "cell_type": "code",
   "execution_count": 13,
   "id": "b3202c81",
   "metadata": {},
   "outputs": [],
   "source": [
    "def Writes_Paints(row):\n",
    "    if row['Intellectual_6'] == 'Yes' :\n",
    "      return 1\n",
    "    return 0"
   ]
  },
  {
   "cell_type": "code",
   "execution_count": 14,
   "id": "2f629074",
   "metadata": {},
   "outputs": [],
   "source": [
    "dta['Writes_Paints'] = dta.apply (lambda row: Writes_Paints(row), axis=1)"
   ]
  },
  {
   "cell_type": "code",
   "execution_count": 15,
   "id": "5e4eae43",
   "metadata": {},
   "outputs": [],
   "source": [
    "def Plays_Instrument(row):\n",
    "    if row['Intellectual_7'] == 'Yes' :\n",
    "      return 1\n",
    "    return 0"
   ]
  },
  {
   "cell_type": "code",
   "execution_count": 16,
   "id": "5a138259",
   "metadata": {},
   "outputs": [],
   "source": [
    "dta['Plays_Instrument'] = dta.apply (lambda row: Plays_Instrument(row), axis=1)"
   ]
  },
  {
   "cell_type": "code",
   "execution_count": 17,
   "id": "a6150ce2",
   "metadata": {},
   "outputs": [],
   "source": [
    "def Intellect_Other(row):\n",
    "    if row['Intellectual_7'] == 'Yes' :\n",
    "      return 1\n",
    "    return 0"
   ]
  },
  {
   "cell_type": "code",
   "execution_count": 18,
   "id": "9bec4570",
   "metadata": {},
   "outputs": [],
   "source": [
    "dta['Intellect_Other'] = dta.apply (lambda row: Intellect_Other(row), axis=1)"
   ]
  },
  {
   "cell_type": "code",
   "execution_count": null,
   "id": "b6d79f64",
   "metadata": {},
   "outputs": [],
   "source": []
  },
  {
   "cell_type": "markdown",
   "id": "63d1464c",
   "metadata": {},
   "source": [
    "## Create Dummy Variables for Social Activity Categories"
   ]
  },
  {
   "cell_type": "code",
   "execution_count": 19,
   "id": "53348d34",
   "metadata": {},
   "outputs": [],
   "source": [
    "def Attends_Class(row):\n",
    "    if row['Social_1'] == 'Yes' :\n",
    "      return 1\n",
    "    return 0"
   ]
  },
  {
   "cell_type": "code",
   "execution_count": 20,
   "id": "0a11fbf1",
   "metadata": {},
   "outputs": [],
   "source": [
    "dta['Attends_Class'] = dta.apply (lambda row: Attends_Class(row), axis=1)"
   ]
  },
  {
   "cell_type": "code",
   "execution_count": 21,
   "id": "8302b4d8",
   "metadata": {},
   "outputs": [],
   "source": [
    "def Joins_Center(row):\n",
    "    if row['Social_2'] == 'Yes' :\n",
    "      return 1\n",
    "    return 0"
   ]
  },
  {
   "cell_type": "code",
   "execution_count": 22,
   "id": "4dbed4fe",
   "metadata": {},
   "outputs": [],
   "source": [
    "dta['Joins_Center'] = dta.apply (lambda row: Joins_Center(row), axis=1)"
   ]
  },
  {
   "cell_type": "code",
   "execution_count": 23,
   "id": "fc97261c",
   "metadata": {},
   "outputs": [],
   "source": [
    "def Volunteers(row):\n",
    "    if row['Social_3'] == 'Yes' :\n",
    "      return 1\n",
    "    return 0"
   ]
  },
  {
   "cell_type": "code",
   "execution_count": 24,
   "id": "08c44377",
   "metadata": {},
   "outputs": [],
   "source": [
    "dta['Volunteers'] = dta.apply (lambda row: Volunteers(row), axis=1)"
   ]
  },
  {
   "cell_type": "code",
   "execution_count": 25,
   "id": "4637124c",
   "metadata": {},
   "outputs": [],
   "source": [
    "def Watches_Entertainment(row):\n",
    "    if row['Social_4'] == 'Yes' :\n",
    "      return 1\n",
    "    return 0"
   ]
  },
  {
   "cell_type": "code",
   "execution_count": 26,
   "id": "35a8d53d",
   "metadata": {},
   "outputs": [],
   "source": [
    "dta['Watches_Entertainment'] = dta.apply (lambda row: Watches_Entertainment(row), axis=1)"
   ]
  },
  {
   "cell_type": "code",
   "execution_count": 27,
   "id": "ddd19ce1",
   "metadata": {},
   "outputs": [],
   "source": [
    "def Meets_People(row):\n",
    "    if row['Social_5'] == 'Yes' :\n",
    "      return 1\n",
    "    return 0"
   ]
  },
  {
   "cell_type": "code",
   "execution_count": 28,
   "id": "22b9324e",
   "metadata": {},
   "outputs": [],
   "source": [
    "dta['Meets_People'] = dta.apply (lambda row: Meets_People(row), axis=1)"
   ]
  },
  {
   "cell_type": "code",
   "execution_count": 29,
   "id": "861cd712",
   "metadata": {},
   "outputs": [],
   "source": [
    "def Sees_Dramas(row):\n",
    "    if row['Social_6'] == 'Yes' :\n",
    "      return 1\n",
    "    return 0"
   ]
  },
  {
   "cell_type": "code",
   "execution_count": 30,
   "id": "0fcec217",
   "metadata": {},
   "outputs": [],
   "source": [
    "dta['Sees_Dramas'] = dta.apply (lambda row: Sees_Dramas(row), axis=1)"
   ]
  },
  {
   "cell_type": "code",
   "execution_count": 31,
   "id": "198fb2f7",
   "metadata": {},
   "outputs": [],
   "source": [
    "def Sings(row):\n",
    "    if row['Social_7'] == 'Yes' :\n",
    "      return 1\n",
    "    return 0"
   ]
  },
  {
   "cell_type": "code",
   "execution_count": 32,
   "id": "613d60e3",
   "metadata": {},
   "outputs": [],
   "source": [
    "dta['Sings'] = dta.apply (lambda row: Sings(row), axis=1)"
   ]
  },
  {
   "cell_type": "code",
   "execution_count": 33,
   "id": "0ad06eec",
   "metadata": {},
   "outputs": [],
   "source": [
    "def Attends_Religion(row):\n",
    "    if row['Social_8'] == 'Yes' :\n",
    "      return 1\n",
    "    return 0"
   ]
  },
  {
   "cell_type": "code",
   "execution_count": 34,
   "id": "796989cd",
   "metadata": {},
   "outputs": [],
   "source": [
    "dta['Attends_Religion'] = dta.apply (lambda row: Attends_Religion(row), axis=1)"
   ]
  },
  {
   "cell_type": "code",
   "execution_count": 35,
   "id": "19463d3a",
   "metadata": {},
   "outputs": [],
   "source": [
    "def Social_Other(row):\n",
    "    if row['Social_9'] == 'Yes' :\n",
    "      return 1\n",
    "    return 0"
   ]
  },
  {
   "cell_type": "code",
   "execution_count": 36,
   "id": "69f8df3e",
   "metadata": {},
   "outputs": [],
   "source": [
    "dta['Social_Other'] = dta.apply (lambda row: Social_Other(row), axis=1)"
   ]
  },
  {
   "cell_type": "markdown",
   "id": "051878ad",
   "metadata": {},
   "source": [
    "## Create Dummy Variables for Recreational Activity Categories"
   ]
  },
  {
   "cell_type": "code",
   "execution_count": 37,
   "id": "d8536ada",
   "metadata": {},
   "outputs": [],
   "source": [
    "def Watches_TV(row):\n",
    "    if row['Recreational_1'] == 'Yes' :\n",
    "      return 1\n",
    "    return 0"
   ]
  },
  {
   "cell_type": "code",
   "execution_count": 38,
   "id": "f457e965",
   "metadata": {},
   "outputs": [],
   "source": [
    "dta['Watches_TV'] = dta.apply (lambda row: Watches_TV(row), axis=1)"
   ]
  },
  {
   "cell_type": "code",
   "execution_count": 39,
   "id": "d6c1b795",
   "metadata": {},
   "outputs": [],
   "source": [
    "def Listens_Music(row):\n",
    "    if row['Recreational_2'] == 'Yes' :\n",
    "      return 1\n",
    "    return 0"
   ]
  },
  {
   "cell_type": "code",
   "execution_count": 40,
   "id": "57bd61e5",
   "metadata": {},
   "outputs": [],
   "source": [
    "dta['Listens_Music'] = dta.apply (lambda row: Listens_Music(row), axis=1)"
   ]
  },
  {
   "cell_type": "code",
   "execution_count": 41,
   "id": "576dc1f8",
   "metadata": {},
   "outputs": [],
   "source": [
    "def Shops(row):\n",
    "    if row['Recreational_3'] == 'Yes' :\n",
    "      return 1\n",
    "    return 0"
   ]
  },
  {
   "cell_type": "code",
   "execution_count": 42,
   "id": "3f18ca60",
   "metadata": {},
   "outputs": [],
   "source": [
    "dta['Shops'] = dta.apply (lambda row: Shops(row), axis=1)"
   ]
  },
  {
   "cell_type": "code",
   "execution_count": 43,
   "id": "cdf89721",
   "metadata": {},
   "outputs": [],
   "source": [
    "def Cooks(row):\n",
    "    if row['Recreational_4'] == 'Yes' :\n",
    "      return 1\n",
    "    return 0"
   ]
  },
  {
   "cell_type": "code",
   "execution_count": 44,
   "id": "87e7e5f4",
   "metadata": {},
   "outputs": [],
   "source": [
    "dta['Cooks'] = dta.apply (lambda row: Cooks(row), axis=1)"
   ]
  },
  {
   "cell_type": "code",
   "execution_count": 45,
   "id": "6f645157",
   "metadata": {},
   "outputs": [],
   "source": [
    "def Fishes(row):\n",
    "    if row['Recreational_5'] == 'Yes' :\n",
    "      return 1\n",
    "    return 0"
   ]
  },
  {
   "cell_type": "code",
   "execution_count": 46,
   "id": "b37a96a2",
   "metadata": {},
   "outputs": [],
   "source": [
    "dta['Fishes'] = dta.apply (lambda row: Fishes(row), axis=1)"
   ]
  },
  {
   "cell_type": "code",
   "execution_count": 47,
   "id": "2423ade8",
   "metadata": {},
   "outputs": [],
   "source": [
    "def Has_Pets(row):\n",
    "    if row['Recreational_6'] == 'Yes' :\n",
    "      return 1\n",
    "    return 0"
   ]
  },
  {
   "cell_type": "code",
   "execution_count": 48,
   "id": "8c8d067a",
   "metadata": {},
   "outputs": [],
   "source": [
    "dta['Has_Pets'] = dta.apply (lambda row: Has_Pets(row), axis=1)"
   ]
  },
  {
   "cell_type": "code",
   "execution_count": 49,
   "id": "3d0f01d3",
   "metadata": {},
   "outputs": [],
   "source": [
    "def Gets_Massages(row):\n",
    "    if row['Recreational_7'] == 'Yes' :\n",
    "      return 1\n",
    "    return 0"
   ]
  },
  {
   "cell_type": "code",
   "execution_count": 50,
   "id": "abce7b38",
   "metadata": {},
   "outputs": [],
   "source": [
    "dta['Gets_Massages'] = dta.apply (lambda row: Gets_Massages(row), axis=1)"
   ]
  },
  {
   "cell_type": "code",
   "execution_count": 51,
   "id": "4c3175cf",
   "metadata": {},
   "outputs": [],
   "source": [
    "def Recreation_Other(row):\n",
    "    if row['Recreational_8'] == 'Yes' :\n",
    "      return 1\n",
    "    return 0"
   ]
  },
  {
   "cell_type": "code",
   "execution_count": 52,
   "id": "9016988b",
   "metadata": {},
   "outputs": [],
   "source": [
    "dta['Recreation_Other'] = dta.apply (lambda row: Recreation_Other(row), axis=1)"
   ]
  },
  {
   "cell_type": "markdown",
   "id": "04cd549e",
   "metadata": {},
   "source": [
    "## Create Dummy Variables for Physical Activity Categories"
   ]
  },
  {
   "cell_type": "code",
   "execution_count": 53,
   "id": "504719f0",
   "metadata": {},
   "outputs": [],
   "source": [
    "def Does_Yoga(row):\n",
    "    if row['Physical_1'] == 'Yes' :\n",
    "      return 1\n",
    "    return 0"
   ]
  },
  {
   "cell_type": "code",
   "execution_count": 54,
   "id": "d83ee16f",
   "metadata": {},
   "outputs": [],
   "source": [
    "dta['Does_Yoga'] = dta.apply (lambda row: Does_Yoga(row), axis=1)"
   ]
  },
  {
   "cell_type": "code",
   "execution_count": 55,
   "id": "7a1d20d8",
   "metadata": {},
   "outputs": [],
   "source": [
    "def Light_Aerobic(row):\n",
    "    if row['Physical_2'] == 'Yes' :\n",
    "      return 1\n",
    "    return 0"
   ]
  },
  {
   "cell_type": "code",
   "execution_count": 56,
   "id": "d21df2db",
   "metadata": {},
   "outputs": [],
   "source": [
    "dta['Light_Aerobic'] = dta.apply (lambda row: Light_Aerobic(row), axis=1)"
   ]
  },
  {
   "cell_type": "code",
   "execution_count": 57,
   "id": "a0ab458a",
   "metadata": {},
   "outputs": [],
   "source": [
    "def Strenuous_Aerobic(row):\n",
    "    if row['Physical_3'] == 'Yes' :\n",
    "      return 1\n",
    "    return 0"
   ]
  },
  {
   "cell_type": "code",
   "execution_count": 58,
   "id": "b3fe33c9",
   "metadata": {},
   "outputs": [],
   "source": [
    "dta['Strenuous_Aerobic'] = dta.apply (lambda row: Strenuous_Aerobic(row), axis=1)"
   ]
  },
  {
   "cell_type": "code",
   "execution_count": 59,
   "id": "ce5886a9",
   "metadata": {},
   "outputs": [],
   "source": [
    "def Stretches_Tones(row):\n",
    "    if row['Physical_4'] == 'Yes' :\n",
    "      return 1\n",
    "    return 0"
   ]
  },
  {
   "cell_type": "code",
   "execution_count": 60,
   "id": "d1493a85",
   "metadata": {},
   "outputs": [],
   "source": [
    "dta['Stretches_Tones'] = dta.apply (lambda row: Stretches_Tones(row), axis=1)"
   ]
  },
  {
   "cell_type": "code",
   "execution_count": 61,
   "id": "cd459c4e",
   "metadata": {},
   "outputs": [],
   "source": [
    "def Physical_Other(row):\n",
    "    if row['Physical_5'] == 'Yes' :\n",
    "      return 1\n",
    "    return 0"
   ]
  },
  {
   "cell_type": "code",
   "execution_count": 62,
   "id": "a1071c56",
   "metadata": {},
   "outputs": [],
   "source": [
    "dta['Physical_Other'] = dta.apply (lambda row: Physical_Other(row), axis=1)"
   ]
  },
  {
   "cell_type": "code",
   "execution_count": 63,
   "id": "ed7e4eb2",
   "metadata": {},
   "outputs": [
    {
     "data": {
      "text/html": [
       "<div>\n",
       "<style scoped>\n",
       "    .dataframe tbody tr th:only-of-type {\n",
       "        vertical-align: middle;\n",
       "    }\n",
       "\n",
       "    .dataframe tbody tr th {\n",
       "        vertical-align: top;\n",
       "    }\n",
       "\n",
       "    .dataframe thead th {\n",
       "        text-align: right;\n",
       "    }\n",
       "</style>\n",
       "<table border=\"1\" class=\"dataframe\">\n",
       "  <thead>\n",
       "    <tr style=\"text-align: right;\">\n",
       "      <th></th>\n",
       "      <th>Participant_ID</th>\n",
       "      <th>Age_yrs</th>\n",
       "      <th>Age_category</th>\n",
       "      <th>Education_yrs</th>\n",
       "      <th>Education_category</th>\n",
       "      <th>Sex</th>\n",
       "      <th>Marital_status</th>\n",
       "      <th>Income</th>\n",
       "      <th>Occupation_class</th>\n",
       "      <th>Living_area</th>\n",
       "      <th>...</th>\n",
       "      <th>Has_Pets</th>\n",
       "      <th>Gets_Massages</th>\n",
       "      <th>Recreation_Other</th>\n",
       "      <th>Does_Yoga</th>\n",
       "      <th>Light_Aerobic</th>\n",
       "      <th>Strenuous_Aerobic</th>\n",
       "      <th>Stretches_Tones</th>\n",
       "      <th>Physical_Other</th>\n",
       "      <th>Dementia</th>\n",
       "      <th>Normal</th>\n",
       "    </tr>\n",
       "  </thead>\n",
       "  <tbody>\n",
       "    <tr>\n",
       "      <th>0</th>\n",
       "      <td>80001</td>\n",
       "      <td>70.0</td>\n",
       "      <td>60-74</td>\n",
       "      <td>3.0</td>\n",
       "      <td>0-6 years</td>\n",
       "      <td>Female</td>\n",
       "      <td>Married</td>\n",
       "      <td>No Income</td>\n",
       "      <td>housewife</td>\n",
       "      <td>Rural</td>\n",
       "      <td>...</td>\n",
       "      <td>0</td>\n",
       "      <td>0</td>\n",
       "      <td>0</td>\n",
       "      <td>0</td>\n",
       "      <td>0</td>\n",
       "      <td>0</td>\n",
       "      <td>0</td>\n",
       "      <td>0</td>\n",
       "      <td>1</td>\n",
       "      <td>0</td>\n",
       "    </tr>\n",
       "    <tr>\n",
       "      <th>1</th>\n",
       "      <td>80002</td>\n",
       "      <td>63.0</td>\n",
       "      <td>60-74</td>\n",
       "      <td>0.0</td>\n",
       "      <td>0-6 years</td>\n",
       "      <td>Female</td>\n",
       "      <td>Single</td>\n",
       "      <td>&lt; monthly minimum wage</td>\n",
       "      <td>profesional</td>\n",
       "      <td>Rural</td>\n",
       "      <td>...</td>\n",
       "      <td>1</td>\n",
       "      <td>0</td>\n",
       "      <td>0</td>\n",
       "      <td>0</td>\n",
       "      <td>0</td>\n",
       "      <td>1</td>\n",
       "      <td>1</td>\n",
       "      <td>0</td>\n",
       "      <td>0</td>\n",
       "      <td>1</td>\n",
       "    </tr>\n",
       "    <tr>\n",
       "      <th>2</th>\n",
       "      <td>80003</td>\n",
       "      <td>64.0</td>\n",
       "      <td>60-74</td>\n",
       "      <td>6.0</td>\n",
       "      <td>0-6 years</td>\n",
       "      <td>Female</td>\n",
       "      <td>Married</td>\n",
       "      <td>No Income</td>\n",
       "      <td>housewife</td>\n",
       "      <td>Rural</td>\n",
       "      <td>...</td>\n",
       "      <td>1</td>\n",
       "      <td>1</td>\n",
       "      <td>0</td>\n",
       "      <td>0</td>\n",
       "      <td>0</td>\n",
       "      <td>0</td>\n",
       "      <td>1</td>\n",
       "      <td>0</td>\n",
       "      <td>0</td>\n",
       "      <td>1</td>\n",
       "    </tr>\n",
       "    <tr>\n",
       "      <th>3</th>\n",
       "      <td>80004</td>\n",
       "      <td>62.0</td>\n",
       "      <td>60-74</td>\n",
       "      <td>6.0</td>\n",
       "      <td>0-6 years</td>\n",
       "      <td>Female</td>\n",
       "      <td>Married</td>\n",
       "      <td>≥ monthly minimum wage</td>\n",
       "      <td>housewife</td>\n",
       "      <td>Rural</td>\n",
       "      <td>...</td>\n",
       "      <td>0</td>\n",
       "      <td>0</td>\n",
       "      <td>0</td>\n",
       "      <td>0</td>\n",
       "      <td>1</td>\n",
       "      <td>0</td>\n",
       "      <td>1</td>\n",
       "      <td>0</td>\n",
       "      <td>0</td>\n",
       "      <td>1</td>\n",
       "    </tr>\n",
       "    <tr>\n",
       "      <th>4</th>\n",
       "      <td>80005</td>\n",
       "      <td>78.0</td>\n",
       "      <td>&gt;75</td>\n",
       "      <td>3.0</td>\n",
       "      <td>0-6 years</td>\n",
       "      <td>Female</td>\n",
       "      <td>Married</td>\n",
       "      <td>No Income</td>\n",
       "      <td>housewife</td>\n",
       "      <td>Rural</td>\n",
       "      <td>...</td>\n",
       "      <td>1</td>\n",
       "      <td>0</td>\n",
       "      <td>0</td>\n",
       "      <td>0</td>\n",
       "      <td>0</td>\n",
       "      <td>0</td>\n",
       "      <td>0</td>\n",
       "      <td>0</td>\n",
       "      <td>1</td>\n",
       "      <td>0</td>\n",
       "    </tr>\n",
       "  </tbody>\n",
       "</table>\n",
       "<p>5 rows × 109 columns</p>\n",
       "</div>"
      ],
      "text/plain": [
       "   Participant_ID  Age_yrs Age_category  Education_yrs Education_category  \\\n",
       "0           80001     70.0        60-74            3.0          0-6 years   \n",
       "1           80002     63.0        60-74            0.0          0-6 years   \n",
       "2           80003     64.0        60-74            6.0          0-6 years   \n",
       "3           80004     62.0        60-74            6.0          0-6 years   \n",
       "4           80005     78.0          >75            3.0          0-6 years   \n",
       "\n",
       "      Sex Marital_status                  Income Occupation_class Living_area  \\\n",
       "0  Female        Married               No Income        housewife       Rural   \n",
       "1  Female         Single  < monthly minimum wage      profesional       Rural   \n",
       "2  Female        Married               No Income        housewife       Rural   \n",
       "3  Female        Married  ≥ monthly minimum wage        housewife       Rural   \n",
       "4  Female        Married               No Income        housewife       Rural   \n",
       "\n",
       "   ...  Has_Pets  Gets_Massages  Recreation_Other  Does_Yoga  Light_Aerobic  \\\n",
       "0  ...         0              0                 0          0              0   \n",
       "1  ...         1              0                 0          0              0   \n",
       "2  ...         1              1                 0          0              0   \n",
       "3  ...         0              0                 0          0              1   \n",
       "4  ...         1              0                 0          0              0   \n",
       "\n",
       "   Strenuous_Aerobic  Stretches_Tones Physical_Other Dementia Normal  \n",
       "0                  0                0              0        1      0  \n",
       "1                  1                1              0        0      1  \n",
       "2                  0                1              0        0      1  \n",
       "3                  0                1              0        0      1  \n",
       "4                  0                0              0        1      0  \n",
       "\n",
       "[5 rows x 109 columns]"
      ]
     },
     "execution_count": 63,
     "metadata": {},
     "output_type": "execute_result"
    }
   ],
   "source": [
    "cat_dummies = pd.get_dummies(dta.Category)\n",
    "dta = pd.concat([dta.drop(['Category'],axis=1),cat_dummies],axis=1)\n",
    "dta.head()"
   ]
  },
  {
   "cell_type": "code",
   "execution_count": 64,
   "id": "2e243777",
   "metadata": {},
   "outputs": [],
   "source": [
    "dta_activity = dta[['Participant_ID', 'Dementia', 'Age_yrs', 'Education_yrs', \n",
    "                    'Reads', 'Surfs_Internet', 'Plays_Games', 'Invests', 'Discusses',\n",
    "                    'Writes_Paints', 'Plays_Instrument', 'Intellect_Other',\n",
    "                    'Attends_Class', 'Joins_Center', 'Volunteers', 'Watches_Entertainment',\n",
    "                    'Meets_People', 'Sees_Dramas', 'Sings', 'Attends_Religion', 'Social_Other',\n",
    "                    'Watches_TV', 'Listens_Music', 'Shops', 'Cooks', 'Fishes', 'Has_Pets',\n",
    "                    'Gets_Massages', 'Recreation_Other', 'Does_Yoga', 'Strenuous_Aerobic', \n",
    "                    'Light_Aerobic', 'Strenuous_Aerobic', 'Stretches_Tones', 'Physical_Other']]"
   ]
  },
  {
   "cell_type": "code",
   "execution_count": 65,
   "id": "ef154db3",
   "metadata": {},
   "outputs": [
    {
     "data": {
      "text/html": [
       "<div>\n",
       "<style scoped>\n",
       "    .dataframe tbody tr th:only-of-type {\n",
       "        vertical-align: middle;\n",
       "    }\n",
       "\n",
       "    .dataframe tbody tr th {\n",
       "        vertical-align: top;\n",
       "    }\n",
       "\n",
       "    .dataframe thead th {\n",
       "        text-align: right;\n",
       "    }\n",
       "</style>\n",
       "<table border=\"1\" class=\"dataframe\">\n",
       "  <thead>\n",
       "    <tr style=\"text-align: right;\">\n",
       "      <th></th>\n",
       "      <th>Participant_ID</th>\n",
       "      <th>Dementia</th>\n",
       "      <th>Age_yrs</th>\n",
       "      <th>Education_yrs</th>\n",
       "      <th>Reads</th>\n",
       "      <th>Surfs_Internet</th>\n",
       "      <th>Plays_Games</th>\n",
       "      <th>Invests</th>\n",
       "      <th>Discusses</th>\n",
       "      <th>Writes_Paints</th>\n",
       "      <th>...</th>\n",
       "      <th>Fishes</th>\n",
       "      <th>Has_Pets</th>\n",
       "      <th>Gets_Massages</th>\n",
       "      <th>Recreation_Other</th>\n",
       "      <th>Does_Yoga</th>\n",
       "      <th>Strenuous_Aerobic</th>\n",
       "      <th>Light_Aerobic</th>\n",
       "      <th>Strenuous_Aerobic</th>\n",
       "      <th>Stretches_Tones</th>\n",
       "      <th>Physical_Other</th>\n",
       "    </tr>\n",
       "  </thead>\n",
       "  <tbody>\n",
       "    <tr>\n",
       "      <th>0</th>\n",
       "      <td>80001</td>\n",
       "      <td>1</td>\n",
       "      <td>70.0</td>\n",
       "      <td>3.0</td>\n",
       "      <td>0</td>\n",
       "      <td>0</td>\n",
       "      <td>0</td>\n",
       "      <td>0</td>\n",
       "      <td>0</td>\n",
       "      <td>0</td>\n",
       "      <td>...</td>\n",
       "      <td>0</td>\n",
       "      <td>0</td>\n",
       "      <td>0</td>\n",
       "      <td>0</td>\n",
       "      <td>0</td>\n",
       "      <td>0</td>\n",
       "      <td>0</td>\n",
       "      <td>0</td>\n",
       "      <td>0</td>\n",
       "      <td>0</td>\n",
       "    </tr>\n",
       "    <tr>\n",
       "      <th>1</th>\n",
       "      <td>80002</td>\n",
       "      <td>0</td>\n",
       "      <td>63.0</td>\n",
       "      <td>0.0</td>\n",
       "      <td>1</td>\n",
       "      <td>0</td>\n",
       "      <td>0</td>\n",
       "      <td>0</td>\n",
       "      <td>0</td>\n",
       "      <td>1</td>\n",
       "      <td>...</td>\n",
       "      <td>1</td>\n",
       "      <td>1</td>\n",
       "      <td>0</td>\n",
       "      <td>0</td>\n",
       "      <td>0</td>\n",
       "      <td>1</td>\n",
       "      <td>0</td>\n",
       "      <td>1</td>\n",
       "      <td>1</td>\n",
       "      <td>0</td>\n",
       "    </tr>\n",
       "    <tr>\n",
       "      <th>2</th>\n",
       "      <td>80003</td>\n",
       "      <td>0</td>\n",
       "      <td>64.0</td>\n",
       "      <td>6.0</td>\n",
       "      <td>1</td>\n",
       "      <td>0</td>\n",
       "      <td>0</td>\n",
       "      <td>0</td>\n",
       "      <td>0</td>\n",
       "      <td>0</td>\n",
       "      <td>...</td>\n",
       "      <td>0</td>\n",
       "      <td>1</td>\n",
       "      <td>1</td>\n",
       "      <td>0</td>\n",
       "      <td>0</td>\n",
       "      <td>0</td>\n",
       "      <td>0</td>\n",
       "      <td>0</td>\n",
       "      <td>1</td>\n",
       "      <td>0</td>\n",
       "    </tr>\n",
       "    <tr>\n",
       "      <th>3</th>\n",
       "      <td>80004</td>\n",
       "      <td>0</td>\n",
       "      <td>62.0</td>\n",
       "      <td>6.0</td>\n",
       "      <td>0</td>\n",
       "      <td>0</td>\n",
       "      <td>0</td>\n",
       "      <td>0</td>\n",
       "      <td>0</td>\n",
       "      <td>0</td>\n",
       "      <td>...</td>\n",
       "      <td>1</td>\n",
       "      <td>0</td>\n",
       "      <td>0</td>\n",
       "      <td>0</td>\n",
       "      <td>0</td>\n",
       "      <td>0</td>\n",
       "      <td>1</td>\n",
       "      <td>0</td>\n",
       "      <td>1</td>\n",
       "      <td>0</td>\n",
       "    </tr>\n",
       "    <tr>\n",
       "      <th>4</th>\n",
       "      <td>80005</td>\n",
       "      <td>1</td>\n",
       "      <td>78.0</td>\n",
       "      <td>3.0</td>\n",
       "      <td>0</td>\n",
       "      <td>0</td>\n",
       "      <td>0</td>\n",
       "      <td>0</td>\n",
       "      <td>0</td>\n",
       "      <td>0</td>\n",
       "      <td>...</td>\n",
       "      <td>0</td>\n",
       "      <td>1</td>\n",
       "      <td>0</td>\n",
       "      <td>0</td>\n",
       "      <td>0</td>\n",
       "      <td>0</td>\n",
       "      <td>0</td>\n",
       "      <td>0</td>\n",
       "      <td>0</td>\n",
       "      <td>0</td>\n",
       "    </tr>\n",
       "    <tr>\n",
       "      <th>...</th>\n",
       "      <td>...</td>\n",
       "      <td>...</td>\n",
       "      <td>...</td>\n",
       "      <td>...</td>\n",
       "      <td>...</td>\n",
       "      <td>...</td>\n",
       "      <td>...</td>\n",
       "      <td>...</td>\n",
       "      <td>...</td>\n",
       "      <td>...</td>\n",
       "      <td>...</td>\n",
       "      <td>...</td>\n",
       "      <td>...</td>\n",
       "      <td>...</td>\n",
       "      <td>...</td>\n",
       "      <td>...</td>\n",
       "      <td>...</td>\n",
       "      <td>...</td>\n",
       "      <td>...</td>\n",
       "      <td>...</td>\n",
       "      <td>...</td>\n",
       "    </tr>\n",
       "    <tr>\n",
       "      <th>681</th>\n",
       "      <td>80734</td>\n",
       "      <td>0</td>\n",
       "      <td>61.0</td>\n",
       "      <td>8.0</td>\n",
       "      <td>1</td>\n",
       "      <td>0</td>\n",
       "      <td>0</td>\n",
       "      <td>0</td>\n",
       "      <td>0</td>\n",
       "      <td>0</td>\n",
       "      <td>...</td>\n",
       "      <td>0</td>\n",
       "      <td>0</td>\n",
       "      <td>0</td>\n",
       "      <td>0</td>\n",
       "      <td>0</td>\n",
       "      <td>0</td>\n",
       "      <td>0</td>\n",
       "      <td>0</td>\n",
       "      <td>0</td>\n",
       "      <td>0</td>\n",
       "    </tr>\n",
       "    <tr>\n",
       "      <th>682</th>\n",
       "      <td>80735</td>\n",
       "      <td>0</td>\n",
       "      <td>66.0</td>\n",
       "      <td>6.0</td>\n",
       "      <td>1</td>\n",
       "      <td>0</td>\n",
       "      <td>0</td>\n",
       "      <td>0</td>\n",
       "      <td>0</td>\n",
       "      <td>0</td>\n",
       "      <td>...</td>\n",
       "      <td>0</td>\n",
       "      <td>1</td>\n",
       "      <td>0</td>\n",
       "      <td>0</td>\n",
       "      <td>0</td>\n",
       "      <td>0</td>\n",
       "      <td>1</td>\n",
       "      <td>0</td>\n",
       "      <td>0</td>\n",
       "      <td>0</td>\n",
       "    </tr>\n",
       "    <tr>\n",
       "      <th>683</th>\n",
       "      <td>80736</td>\n",
       "      <td>0</td>\n",
       "      <td>60.0</td>\n",
       "      <td>6.0</td>\n",
       "      <td>1</td>\n",
       "      <td>0</td>\n",
       "      <td>0</td>\n",
       "      <td>0</td>\n",
       "      <td>1</td>\n",
       "      <td>1</td>\n",
       "      <td>...</td>\n",
       "      <td>0</td>\n",
       "      <td>1</td>\n",
       "      <td>1</td>\n",
       "      <td>0</td>\n",
       "      <td>0</td>\n",
       "      <td>0</td>\n",
       "      <td>0</td>\n",
       "      <td>0</td>\n",
       "      <td>1</td>\n",
       "      <td>0</td>\n",
       "    </tr>\n",
       "    <tr>\n",
       "      <th>684</th>\n",
       "      <td>80737</td>\n",
       "      <td>0</td>\n",
       "      <td>60.0</td>\n",
       "      <td>6.0</td>\n",
       "      <td>0</td>\n",
       "      <td>0</td>\n",
       "      <td>0</td>\n",
       "      <td>0</td>\n",
       "      <td>0</td>\n",
       "      <td>0</td>\n",
       "      <td>...</td>\n",
       "      <td>0</td>\n",
       "      <td>0</td>\n",
       "      <td>0</td>\n",
       "      <td>0</td>\n",
       "      <td>0</td>\n",
       "      <td>0</td>\n",
       "      <td>0</td>\n",
       "      <td>0</td>\n",
       "      <td>0</td>\n",
       "      <td>0</td>\n",
       "    </tr>\n",
       "    <tr>\n",
       "      <th>685</th>\n",
       "      <td>80738</td>\n",
       "      <td>0</td>\n",
       "      <td>63.0</td>\n",
       "      <td>6.0</td>\n",
       "      <td>1</td>\n",
       "      <td>0</td>\n",
       "      <td>1</td>\n",
       "      <td>0</td>\n",
       "      <td>0</td>\n",
       "      <td>0</td>\n",
       "      <td>...</td>\n",
       "      <td>0</td>\n",
       "      <td>1</td>\n",
       "      <td>1</td>\n",
       "      <td>0</td>\n",
       "      <td>0</td>\n",
       "      <td>0</td>\n",
       "      <td>0</td>\n",
       "      <td>0</td>\n",
       "      <td>1</td>\n",
       "      <td>0</td>\n",
       "    </tr>\n",
       "  </tbody>\n",
       "</table>\n",
       "<p>686 rows × 35 columns</p>\n",
       "</div>"
      ],
      "text/plain": [
       "     Participant_ID  Dementia  Age_yrs  Education_yrs  Reads  Surfs_Internet  \\\n",
       "0             80001         1     70.0            3.0      0               0   \n",
       "1             80002         0     63.0            0.0      1               0   \n",
       "2             80003         0     64.0            6.0      1               0   \n",
       "3             80004         0     62.0            6.0      0               0   \n",
       "4             80005         1     78.0            3.0      0               0   \n",
       "..              ...       ...      ...            ...    ...             ...   \n",
       "681           80734         0     61.0            8.0      1               0   \n",
       "682           80735         0     66.0            6.0      1               0   \n",
       "683           80736         0     60.0            6.0      1               0   \n",
       "684           80737         0     60.0            6.0      0               0   \n",
       "685           80738         0     63.0            6.0      1               0   \n",
       "\n",
       "     Plays_Games  Invests  Discusses  Writes_Paints  ...  Fishes  Has_Pets  \\\n",
       "0              0        0          0              0  ...       0         0   \n",
       "1              0        0          0              1  ...       1         1   \n",
       "2              0        0          0              0  ...       0         1   \n",
       "3              0        0          0              0  ...       1         0   \n",
       "4              0        0          0              0  ...       0         1   \n",
       "..           ...      ...        ...            ...  ...     ...       ...   \n",
       "681            0        0          0              0  ...       0         0   \n",
       "682            0        0          0              0  ...       0         1   \n",
       "683            0        0          1              1  ...       0         1   \n",
       "684            0        0          0              0  ...       0         0   \n",
       "685            1        0          0              0  ...       0         1   \n",
       "\n",
       "     Gets_Massages  Recreation_Other  Does_Yoga  Strenuous_Aerobic  \\\n",
       "0                0                 0          0                  0   \n",
       "1                0                 0          0                  1   \n",
       "2                1                 0          0                  0   \n",
       "3                0                 0          0                  0   \n",
       "4                0                 0          0                  0   \n",
       "..             ...               ...        ...                ...   \n",
       "681              0                 0          0                  0   \n",
       "682              0                 0          0                  0   \n",
       "683              1                 0          0                  0   \n",
       "684              0                 0          0                  0   \n",
       "685              1                 0          0                  0   \n",
       "\n",
       "     Light_Aerobic  Strenuous_Aerobic  Stretches_Tones  Physical_Other  \n",
       "0                0                  0                0               0  \n",
       "1                0                  1                1               0  \n",
       "2                0                  0                1               0  \n",
       "3                1                  0                1               0  \n",
       "4                0                  0                0               0  \n",
       "..             ...                ...              ...             ...  \n",
       "681              0                  0                0               0  \n",
       "682              1                  0                0               0  \n",
       "683              0                  0                1               0  \n",
       "684              0                  0                0               0  \n",
       "685              0                  0                1               0  \n",
       "\n",
       "[686 rows x 35 columns]"
      ]
     },
     "execution_count": 65,
     "metadata": {},
     "output_type": "execute_result"
    }
   ],
   "source": [
    "dta_activity"
   ]
  },
  {
   "cell_type": "code",
   "execution_count": 66,
   "id": "a2b6780b",
   "metadata": {},
   "outputs": [],
   "source": [
    "dta_activity.to_csv(r'data/activity_data.csv', index = False)"
   ]
  },
  {
   "cell_type": "code",
   "execution_count": 67,
   "id": "b78995b1",
   "metadata": {},
   "outputs": [
    {
     "data": {
      "text/plain": [
       "Participant_ID             int64\n",
       "Dementia                   uint8\n",
       "Age_yrs                  float64\n",
       "Education_yrs            float64\n",
       "Reads                      int64\n",
       "Surfs_Internet             int64\n",
       "Plays_Games                int64\n",
       "Invests                    int64\n",
       "Discusses                  int64\n",
       "Writes_Paints              int64\n",
       "Plays_Instrument           int64\n",
       "Intellect_Other            int64\n",
       "Attends_Class              int64\n",
       "Joins_Center               int64\n",
       "Volunteers                 int64\n",
       "Watches_Entertainment      int64\n",
       "Meets_People               int64\n",
       "Sees_Dramas                int64\n",
       "Sings                      int64\n",
       "Attends_Religion           int64\n",
       "Social_Other               int64\n",
       "Watches_TV                 int64\n",
       "Listens_Music              int64\n",
       "Shops                      int64\n",
       "Cooks                      int64\n",
       "Fishes                     int64\n",
       "Has_Pets                   int64\n",
       "Gets_Massages              int64\n",
       "Recreation_Other           int64\n",
       "Does_Yoga                  int64\n",
       "Strenuous_Aerobic          int64\n",
       "Light_Aerobic              int64\n",
       "Strenuous_Aerobic          int64\n",
       "Stretches_Tones            int64\n",
       "Physical_Other             int64\n",
       "dtype: object"
      ]
     },
     "execution_count": 67,
     "metadata": {},
     "output_type": "execute_result"
    }
   ],
   "source": [
    "dta_activity.dtypes"
   ]
  },
  {
   "cell_type": "markdown",
   "id": "af7a668a",
   "metadata": {},
   "source": [
    "## MODELS"
   ]
  },
  {
   "cell_type": "code",
   "execution_count": 68,
   "id": "4bccf6d2",
   "metadata": {},
   "outputs": [],
   "source": [
    "dta_activity['Activity_sum']= dta_activity.iloc[:, -31:-1].sum(axis=1)"
   ]
  },
  {
   "cell_type": "code",
   "execution_count": 69,
   "id": "17cf7b98",
   "metadata": {},
   "outputs": [
    {
     "data": {
      "text/plain": [
       "Text(0.5, 0.98, 'Distribution of Activity Totals for Individuals without (0) and with (1) Dementia')"
      ]
     },
     "execution_count": 69,
     "metadata": {},
     "output_type": "execute_result"
    },
    {
     "data": {
      "image/png": "[encoded data removed]",
      "text/plain": [
       "<Figure size 1080x396 with 2 Axes>"
      ]
     },
     "metadata": {
      "needs_background": "light"
     },
     "output_type": "display_data"
    }
   ],
   "source": [
    "dta_activity = dta_activity.hist(column='Activity_sum', \n",
    "                               by='Dementia', \n",
    "                               figsize=(15, 5.5),\n",
    "                               legend=True)\n",
    "for total in dta_activity.flatten():\n",
    "    total.set_xlabel(\"Activity Total\")\n",
    "    total.set_ylabel(\"Count\")\n",
    "pl.suptitle('Distribution of Activity Totals for Individuals without (0) and with (1) Dementia')"
   ]
  },
  {
   "cell_type": "code",
   "execution_count": 70,
   "id": "5412b726",
   "metadata": {},
   "outputs": [
    {
     "ename": "IndexError",
     "evalue": "tuple index out of range",
     "output_type": "error",
     "traceback": [
      "\u001b[0;31m---------------------------------------------------------------------------\u001b[0m",
      "\u001b[0;31mIndexError\u001b[0m                                Traceback (most recent call last)",
      "\u001b[0;32m/var/folders/cd/93h39wzj19z6t4hrznqr883w0000gn/T/ipykernel_56069/3107927727.py\u001b[0m in \u001b[0;36m<module>\u001b[0;34m\u001b[0m\n\u001b[0;32m----> 1\u001b[0;31m \u001b[0mmiss\u001b[0m\u001b[0;34m.\u001b[0m\u001b[0mmatrix\u001b[0m\u001b[0;34m(\u001b[0m\u001b[0mdta_activity\u001b[0m\u001b[0;34m)\u001b[0m\u001b[0;34m\u001b[0m\u001b[0;34m\u001b[0m\u001b[0m\n\u001b[0m",
      "\u001b[0;32m~/opt/miniconda3/lib/python3.9/site-packages/missingno/missingno.py\u001b[0m in \u001b[0;36mmatrix\u001b[0;34m(df, filter, n, p, sort, figsize, width_ratios, color, fontsize, labels, sparkline, inline, freq, ax)\u001b[0m\n\u001b[1;32m     37\u001b[0m \u001b[0;34m\u001b[0m\u001b[0m\n\u001b[1;32m     38\u001b[0m     \u001b[0mheight\u001b[0m \u001b[0;34m=\u001b[0m \u001b[0mdf\u001b[0m\u001b[0;34m.\u001b[0m\u001b[0mshape\u001b[0m\u001b[0;34m[\u001b[0m\u001b[0;36m0\u001b[0m\u001b[0;34m]\u001b[0m\u001b[0;34m\u001b[0m\u001b[0;34m\u001b[0m\u001b[0m\n\u001b[0;32m---> 39\u001b[0;31m     \u001b[0mwidth\u001b[0m \u001b[0;34m=\u001b[0m \u001b[0mdf\u001b[0m\u001b[0;34m.\u001b[0m\u001b[0mshape\u001b[0m\u001b[0;34m[\u001b[0m\u001b[0;36m1\u001b[0m\u001b[0;34m]\u001b[0m\u001b[0;34m\u001b[0m\u001b[0;34m\u001b[0m\u001b[0m\n\u001b[0m\u001b[1;32m     40\u001b[0m \u001b[0;34m\u001b[0m\u001b[0m\n\u001b[1;32m     41\u001b[0m     \u001b[0;31m# z is the color-mask array, g is a NxNx3 matrix. Apply the z color-mask to set the RGB of each pixel.\u001b[0m\u001b[0;34m\u001b[0m\u001b[0;34m\u001b[0m\u001b[0;34m\u001b[0m\u001b[0m\n",
      "\u001b[0;31mIndexError\u001b[0m: tuple index out of range"
     ]
    }
   ],
   "source": [
    "miss.matrix(dta_activity)"
   ]
  },
  {
   "cell_type": "code",
   "execution_count": null,
   "id": "5e091154",
   "metadata": {},
   "outputs": [],
   "source": [
    "dta1 = dta_activity.dropna()\n",
    "len(dta1)"
   ]
  },
  {
   "cell_type": "code",
   "execution_count": null,
   "id": "a6b30879",
   "metadata": {},
   "outputs": [],
   "source": [
    "sample = dta1.groupby(\"Dementia\").sample(n=191, random_state=1988)\n",
    "sample.columns"
   ]
  },
  {
   "cell_type": "code",
   "execution_count": null,
   "id": "160a797b",
   "metadata": {},
   "outputs": [],
   "source": [
    "y = sample['Dementia']\n",
    "X = sample[['Reads', 'Surfs_Internet', 'Plays_Games', 'Invests', 'Discusses',\n",
    "                    'Writes_Paints', 'Plays_Instrument', 'Intellect_Other',\n",
    "                    'Attends_Class', 'Joins_Center', 'Volunteers', 'Watches_Entertainment',\n",
    "                    'Meets_People', 'Sees_Dramas', 'Sings', 'Attends_Religion', 'Social_Other',\n",
    "                    'Watches_TV', 'Listens_Music', 'Shops', 'Cooks', 'Fishes', 'Has_Pets',\n",
    "                    'Gets_Massages', 'Recreation_Other', 'Does_Yoga', 'Strenuous_Aerobic', \n",
    "                    'Light_Aerobic', 'Strenuous_Aerobic', 'Stretches_Tones', 'Physical_Other']]\n",
    "X.columns"
   ]
  },
  {
   "cell_type": "code",
   "execution_count": null,
   "id": "c692e903",
   "metadata": {},
   "outputs": [],
   "source": [
    "train_X, test_X, train_y, test_y = train_test_split(X,y,test_size=.25,random_state=1988)"
   ]
  },
  {
   "cell_type": "code",
   "execution_count": null,
   "id": "5f2c55af",
   "metadata": {},
   "outputs": [],
   "source": [
    "# Look at the training data\n",
    "train_X.shape "
   ]
  },
  {
   "cell_type": "code",
   "execution_count": null,
   "id": "21b63698",
   "metadata": {},
   "outputs": [],
   "source": [
    "(\n",
    "    ggplot(train_X.melt(),aes(x=\"value\")) +\n",
    "    geom_histogram() +\n",
    "    facet_wrap(\"variable\",scales=\"free\") +\n",
    "    theme_minimal() +\n",
    "    theme(figure_size = (10,3)) \n",
    ") "
   ]
  },
  {
   "cell_type": "code",
   "execution_count": null,
   "id": "af0e6573",
   "metadata": {},
   "outputs": [],
   "source": [
    "D = train_X.copy()\n",
    "D['Dementia'] = train_y\n",
    "\n",
    "(\n",
    "    ggplot(D.melt(id_vars=[\"Dementia\"]),\n",
    "           aes(x=\"value\",y=\"Dementia\"))+\n",
    "    geom_point(alpha=.5) +\n",
    "    facet_wrap(\"variable\",scales=\"free\") +\n",
    "    geom_smooth(method=\"lm\",se=False,color=\"red\") +\n",
    "    theme_minimal() +\n",
    "    theme(figure_size = (10,3)) \n",
    ")"
   ]
  },
  {
   "cell_type": "code",
   "execution_count": null,
   "id": "296bfacd",
   "metadata": {},
   "outputs": [],
   "source": [
    "scaler = pp.MinMaxScaler()\n",
    "col_names = list(train_X)\n",
    "train_X = scaler.fit_transform(train_X)"
   ]
  },
  {
   "cell_type": "code",
   "execution_count": null,
   "id": "a093a3b1",
   "metadata": {},
   "outputs": [],
   "source": [
    "# Convert back into data frame\n",
    "train_X = pd.DataFrame(train_X,columns=col_names)\n",
    "train_X"
   ]
  },
  {
   "cell_type": "code",
   "execution_count": null,
   "id": "f518b267",
   "metadata": {},
   "outputs": [],
   "source": [
    "fold_generator = KFold(n_splits=5, shuffle=True,random_state=111)"
   ]
  },
  {
   "cell_type": "code",
   "execution_count": null,
   "id": "207022b1",
   "metadata": {},
   "outputs": [],
   "source": [
    "use_metrics = [\"neg_mean_squared_error\"]"
   ]
  },
  {
   "cell_type": "code",
   "execution_count": null,
   "id": "83bf692e",
   "metadata": {},
   "outputs": [],
   "source": [
    "lm_scores = cross_validate(LM(),train_X,train_y, cv = fold_generator, scoring =use_metrics)\n",
    "knn_scores = cross_validate(KNN(),train_X,train_y, cv = fold_generator, scoring =use_metrics)\n",
    "dt_scores = cross_validate(DTree(),train_X,train_y, cv = fold_generator, scoring =use_metrics)\n",
    "bag_scores = cross_validate(Bag(),train_X,train_y, cv = fold_generator, scoring =use_metrics)\n",
    "rf_scores = cross_validate(RF(),train_X,train_y, cv = fold_generator, scoring =use_metrics)"
   ]
  },
  {
   "cell_type": "code",
   "execution_count": null,
   "id": "33d6383b",
   "metadata": {},
   "outputs": [],
   "source": [
    "lm_scores"
   ]
  },
  {
   "cell_type": "code",
   "execution_count": null,
   "id": "0461905c",
   "metadata": {},
   "outputs": [],
   "source": [
    "# Collect all the metrics we care about as a dictionary \n",
    "collect_scores = \\\n",
    "dict(lm = lm_scores['test_neg_mean_squared_error']*-1,\n",
    "     knn = knn_scores['test_neg_mean_squared_error']*-1,\n",
    "     dt = dt_scores['test_neg_mean_squared_error']*-1,\n",
    "     bag = bag_scores['test_neg_mean_squared_error']*-1,\n",
    "     rf = rf_scores['test_neg_mean_squared_error']*-1)\n",
    "\n",
    "# Convert to a data frame and reshape\n",
    "collect_scores = pd.DataFrame(collect_scores).melt(var_name=\"Model\",value_name=\"MSE\")\n",
    "collect_scores"
   ]
  },
  {
   "cell_type": "code",
   "execution_count": null,
   "id": "82523bdb",
   "metadata": {},
   "outputs": [],
   "source": [
    "# Get the order of the models\n",
    "order = (collect_scores.groupby('Model').mean().sort_values(by=\"MSE\").index.tolist())\n",
    "\n",
    "# Plot\n",
    "(\n",
    "    ggplot(collect_scores,\n",
    "          aes(x=\"Model\",y=\"MSE\")) +\n",
    "    geom_boxplot() +\n",
    "    scale_x_discrete(limits=order) +\n",
    "    labs(x=\"Model\",y=\"Mean Squared Error\") +\n",
    "    coord_flip() +\n",
    "    theme_minimal() +\n",
    "    theme(dpi=150)\n",
    ")"
   ]
  },
  {
   "cell_type": "code",
   "execution_count": null,
   "id": "b509b3c8",
   "metadata": {},
   "outputs": [],
   "source": [
    "set_k = dict()\n",
    "for k in [1,5,10,50,100,250]:\n",
    "    score = cross_validate(KNN(n_neighbors=k),\n",
    "                           train_X,train_y, \n",
    "                           cv = fold_generator, \n",
    "                           scoring =use_metrics)\n",
    "    s = score['test_neg_mean_squared_error']\n",
    "    set_k[k] = s.mean()\n",
    " \n",
    "set_k"
   ]
  },
  {
   "cell_type": "code",
   "execution_count": null,
   "id": "7506609a",
   "metadata": {},
   "outputs": [],
   "source": [
    "# (0) Split the data \n",
    "train_X, test_X, train_y, test_y = train_test_split(X,y,test_size=.25,random_state=1988)\n",
    "\n",
    "# (1) Set the folds index to ensure comparable samples\n",
    "fold_generator = KFold(n_splits=5, shuffle=True,random_state=1988)\n",
    "\n",
    "# (2) Next specify the preprocessing steps\n",
    "preprocess = ColumnTransformer(transformers=[('num', pp.MinMaxScaler(), \n",
    "                    ['Reads', 'Surfs_Internet', 'Plays_Games', 'Invests', 'Discusses',\n",
    "       'Writes_Paints', 'Plays_Instrument', 'Intellect_Other', 'Attends_Class',\n",
    "       'Joins_Center', 'Volunteers', 'Watches_Entertainment', 'Meets_People',\n",
    "       'Sees_Dramas', 'Sings', 'Attends_Religion', 'Social_Other',\n",
    "       'Watches_TV', 'Listens_Music', 'Shops', 'Cooks', 'Fishes', 'Has_Pets',\n",
    "       'Gets_Massages', 'Recreation_Other', 'Does_Yoga', 'Strenuous_Aerobic',\n",
    "       'Strenuous_Aerobic', 'Light_Aerobic', 'Strenuous_Aerobic',\n",
    "       'Strenuous_Aerobic', 'Stretches_Tones', 'Physical_Other'])])\n",
    "\n",
    "\n",
    "# (3) Next Let's create our model pipe (note for the model we leave none as a placeholder)\n",
    "pipe = Pipeline(steps=[('pre_process', preprocess),\n",
    "                       ('model',None)])\n",
    "\n",
    "\n",
    "# (4) Specify the models and their repsective tuning parameters. \n",
    "# Note the naming convention here to reference the model key\n",
    "search_space = [\n",
    "    # Linear Model\n",
    "    {'model' : [LM()]},\n",
    "    \n",
    "    # KNN with K tuning param\n",
    "    {'model' : [KNN()],\n",
    "     'model__n_neighbors':[10,15,20,25,30]},\n",
    "    \n",
    "    # Decision Tree with the Max Depth Param\n",
    "    {'model': [DTree()],\n",
    "     'model__max_depth':[1,2,3,5]},\n",
    "    \n",
    "    # The Bagging decision tree model \n",
    "    {'model': [Bag()]},\n",
    "    \n",
    "    # Random forest with the N Estimators tuning param\n",
    "    {'model' : [RF()],\n",
    "     'model__max_depth':[1,2,3],\n",
    "     'model__n_estimators':[500,1000,1250]},\n",
    "]\n",
    "\n",
    "\n",
    "# (5) Put it all together in the grid search\n",
    "search = GridSearchCV(pipe, search_space, \n",
    "                      cv = fold_generator,\n",
    "                      scoring='neg_mean_squared_error',\n",
    "                      n_jobs=4)\n",
    "\n",
    "# (6) Fit the model to the training data\n",
    "search.fit(train_X,train_y)"
   ]
  },
  {
   "cell_type": "code",
   "execution_count": null,
   "id": "eff2cd86",
   "metadata": {},
   "outputs": [],
   "source": [
    "# (6) Fit the model to the training data\n",
    "search.fit(train_X,train_y.values.ravel())"
   ]
  },
  {
   "cell_type": "code",
   "execution_count": null,
   "id": "4b804ecb",
   "metadata": {},
   "outputs": [],
   "source": [
    "search.best_score_ # Mean out-of-sample (CV) error"
   ]
  },
  {
   "cell_type": "code",
   "execution_count": null,
   "id": "9519a389",
   "metadata": {},
   "outputs": [],
   "source": [
    "search.best_params_"
   ]
  },
  {
   "cell_type": "code",
   "execution_count": null,
   "id": "e3004745",
   "metadata": {},
   "outputs": [],
   "source": [
    "# Predict() method will use the best model out of the scan\n",
    "pred_y = search.predict(test_X)"
   ]
  },
  {
   "cell_type": "code",
   "execution_count": null,
   "id": "54cc2e13",
   "metadata": {},
   "outputs": [],
   "source": [
    "m.mean_squared_error(test_y,pred_y)"
   ]
  },
  {
   "cell_type": "code",
   "execution_count": null,
   "id": "298d286f",
   "metadata": {},
   "outputs": [],
   "source": [
    "m.r2_score(test_y,pred_y)"
   ]
  },
  {
   "cell_type": "code",
   "execution_count": null,
   "id": "526f9d5f",
   "metadata": {},
   "outputs": [],
   "source": []
  }
 ],
 "metadata": {
  "hide_input": false,
  "kernelspec": {
   "display_name": "Python 3 (ipykernel)",
   "language": "python",
   "name": "python3"
  },
  "language_info": {
   "codemirror_mode": {
    "name": "ipython",
    "version": 3
   },
   "file_extension": ".py",
   "mimetype": "text/x-python",
   "name": "python",
   "nbconvert_exporter": "python",
   "pygments_lexer": "ipython3",
   "version": "3.9.5"
  },
  "varInspector": {
   "cols": {
    "lenName": 16,
    "lenType": 16,
    "lenVar": 40
   },
   "kernels_config": {
    "python": {
     "delete_cmd_postfix": "",
     "delete_cmd_prefix": "del ",
     "library": "var_list.py",
     "varRefreshCmd": "print(var_dic_list())"
    },
    "r": {
     "delete_cmd_postfix": ") ",
     "delete_cmd_prefix": "rm(",
     "library": "var_list.r",
     "varRefreshCmd": "cat(var_dic_list()) "
    }
   },
   "types_to_exclude": [
    "module",
    "function",
    "builtin_function_or_method",
    "instance",
    "_Feature"
   ],
   "window_display": false
  }
 },
 "nbformat": 4,
 "nbformat_minor": 5
}
