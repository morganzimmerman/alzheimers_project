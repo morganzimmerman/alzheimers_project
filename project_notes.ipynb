{
 "cells": [
  {
   "cell_type": "markdown",
   "id": "2319f0a6",
   "metadata": {},
   "source": [
    "## Project Plan\n",
    "This is simply a document to keep project plan notes/updates."
   ]
  },
  {
   "cell_type": "markdown",
   "id": "fd4fbfad",
   "metadata": {},
   "source": [
    "#### Problem Definition -  what characteristics, biomarkers, or overall health habits are associated with the onset of dementia"
   ]
  },
  {
   "cell_type": "markdown",
   "id": "23041c2f",
   "metadata": {},
   "source": [
    "#### Notes:\n",
    "* Data cleaning doc: import data, fix variable names, define unit of analysis (patient level)\n",
    "* Outcome: patient either does/does not have dementia, how do certian biomarkers or lifestyle habits reflect that outcome, what features are more related to dementia and which features appear to reduce risk of dementia\n",
    "* NEED a machine learning component: build a model that predicts whether or not patient has dementia (explore model features and make predictions)"
   ]
  },
  {
   "cell_type": "markdown",
   "id": "b5ba087c",
   "metadata": {},
   "source": [
    "#### To-Do:\n",
    "* Data importing/cleaning: standardized variable names, change variable types, explore missing data\n",
    "* Data visualization and exploration: ask questions of the data, produce counts/reports of dataset characteristics (ex. # of patients with/without dementia, age group counts, summary of types of lifestyle or diet markers, etc.), visualize distributions of continuous variables (if any), calculate correlations, preview simple trends, etc."
   ]
  },
  {
   "cell_type": "markdown",
   "id": "a28145b9",
   "metadata": {},
   "source": [
    "### Project Parts - \n",
    "1. Data Wrangling:\n",
    "2. Data Visualization: explore unit of observation, coverage of data, how data was generated/created, missingness (reference week 7 notes)\n",
    "3. Machine Learning: "
   ]
  },
  {
   "cell_type": "code",
   "execution_count": null,
   "id": "5835e589",
   "metadata": {},
   "outputs": [],
   "source": []
  }
 ],
 "metadata": {
  "kernelspec": {
   "display_name": "Python 3 (ipykernel)",
   "language": "python",
   "name": "python3"
  },
  "language_info": {
   "codemirror_mode": {
    "name": "ipython",
    "version": 3
   },
   "file_extension": ".py",
   "mimetype": "text/x-python",
   "name": "python",
   "nbconvert_exporter": "python",
   "pygments_lexer": "ipython3",
   "version": "3.9.5"
  }
 },
 "nbformat": 4,
 "nbformat_minor": 5
}
